{
  "nbformat": 4,
  "nbformat_minor": 0,
  "metadata": {
    "colab": {
      "provenance": [],
      "authorship_tag": "ABX9TyMcqw64USflszlgaNlPPGnr",
      "include_colab_link": true
    },
    "kernelspec": {
      "name": "python3",
      "display_name": "Python 3"
    },
    "language_info": {
      "name": "python"
    }
  },
  "cells": [
    {
      "cell_type": "markdown",
      "metadata": {
        "id": "view-in-github",
        "colab_type": "text"
      },
      "source": [
        "<a href=\"https://colab.research.google.com/github/nadiaesde/TALENTCLOUD/blob/main/EXERCICIO_TABUADA.ipynb\" target=\"_parent\"><img src=\"https://colab.research.google.com/assets/colab-badge.svg\" alt=\"Open In Colab\"/></a>"
      ]
    },
    {
      "cell_type": "code",
      "execution_count": null,
      "metadata": {
        "id": "fH4wORhmVZF5"
      },
      "outputs": [],
      "source": [
        "def calculadora():\n",
        "    while True:\n",
        "        print(\"Escolha uma operação:\")\n",
        "        print(\"1: Soma\")\n",
        "        print(\"2: Subtração\")\n",
        "        print(\"3: Multiplicação\")\n",
        "        print(\"4: Divisão\")\n",
        "        print(\"0: Sair\")\n",
        "        operacao = int(input(\"Digite o número da operação: \"))\n",
        "        if operacao == 0:\n",
        "            break\n",
        "        elif operacao not in [1, 2, 3, 4]:\n",
        "            print(\"Essa opção não existe\")\n",
        "            continue\n",
        "        num1 = float(input(\"Digite o primeiro número: \"))\n",
        "        num2 = float(input(\"Digite o segundo número: \"))\n",
        "        if operacao == 1:\n",
        "            resultado = num1 + num2\n",
        "        elif operacao == 2:\n",
        "            resultado = num1 - num2\n",
        "        elif operacao == 3:\n",
        "            resultado = num1 * num2\n",
        "        elif operacao == 4:\n",
        "            resultado = num1 / num2\n",
        "        print(f\"O resultado é: {resultado}\")"
      ]
    },
    {
      "cell_type": "code",
      "source": [
        "i = 0\n",
        "while(i < 6):\n",
        "  print(\"regue a planta:\" , i)\n",
        "  i = i + 1"
      ],
      "metadata": {
        "colab": {
          "base_uri": "https://localhost:8080/"
        },
        "id": "dnUWc83svbcr",
        "outputId": "05d628f7-95cc-4b73-d8c3-4cb820db3ea1"
      },
      "execution_count": 4,
      "outputs": [
        {
          "output_type": "stream",
          "name": "stdout",
          "text": [
            "regue a planta: 0\n",
            "regue a planta: 1\n",
            "regue a planta: 2\n",
            "regue a planta: 3\n",
            "regue a planta: 4\n",
            "regue a planta: 5\n"
          ]
        }
      ]
    },
    {
      "cell_type": "code",
      "source": [
        "def soma(a, b):\n",
        "    return a + b\n",
        "\n",
        "def subtracao(a, b):\n",
        "    return a - b\n",
        "\n",
        "def multiplicacao(a, b):\n",
        "    return a * b\n",
        "\n",
        "def divisao(a, b):\n",
        "    if b != 0:\n",
        "        return a / b\n",
        "    else:\n",
        "        return \"Erro: divisão por zero\"\n",
        "\n",
        "while True:\n",
        "    print(\"1: Soma\")\n",
        "    print(\"2: Subtração\")\n",
        "    print(\"3: Multiplicação\")\n",
        "    print(\"4: Divisão\")\n",
        "\n",
        "    elif\n",
        "        num1 = float(input(\"Digite o primeiro valor: \"))\n",
        "        num2 = float(input(\"Digite o segundo valor: \"))\n",
        "\n",
        "        if opcao == '1':\n",
        "            resultado = soma(num1, num2)\n",
        "        elif opcao == '2':\n",
        "            resultado = subtracao(num1, num2)\n",
        "        elif opcao == '3':\n",
        "            resultado = multiplicacao(num1, num2)\n",
        "        elif opcao == '4':\n",
        "            resultado = divisao(num1, num2)\n",
        "\n",
        "        print(\"Resultado:\", resultado)\n",
        "    else:\n",
        "        print(\"Essa opção não existe\")"
      ],
      "metadata": {
        "colab": {
          "base_uri": "https://localhost:8080/",
          "height": 140
        },
        "id": "c2x9SxfNVyPj",
        "outputId": "f13e3c86-8036-42b7-ee27-13c3b5602d25"
      },
      "execution_count": null,
      "outputs": [
        {
          "output_type": "error",
          "ename": "SyntaxError",
          "evalue": "ignored",
          "traceback": [
            "\u001b[0;36m  File \u001b[0;32m\"<ipython-input-2-70dc14b112a6>\"\u001b[0;36m, line \u001b[0;32m22\u001b[0m\n\u001b[0;31m    elif\u001b[0m\n\u001b[0m    ^\u001b[0m\n\u001b[0;31mSyntaxError\u001b[0m\u001b[0;31m:\u001b[0m invalid syntax\n"
          ]
        }
      ]
    },
    {
      "cell_type": "code",
      "source": [
        "def calculadora():\n",
        "    while True:\n",
        "        print ('1: Soma\\n2: subtração\\n3: Multiplicação\\n4: Divisão\\n')\n",
        "\n",
        "        num1 = float(input('Digite o primeiro número: '))\n",
        "        num2 = float(input('Digite o segundo número: '))\n",
        "        op = int (input('Digite o número correspondente a operação: '))\n",
        "\n",
        "        if op == 1:\n",
        "            res = num1 + num2\n",
        "        elif op == 2:\n",
        "            res = num1 - num2\n",
        "        elif op == 3:\n",
        "            res = num1 * num2\n",
        "        elif op == 4 and num2 != 0:\n",
        "            res = num1 / num2\n",
        "        else:\n",
        "            res = 'Essa opção não existe'\n",
        "        print (res)\n",
        "        resp = input('Continuar? [S] para sim e [N] para não!')\n",
        "        if resp in 'Nn':\n",
        "            print('Saindo...')\n",
        "            break\n",
        "\n",
        "calculadora()"
      ],
      "metadata": {
        "colab": {
          "base_uri": "https://localhost:8080/"
        },
        "id": "og4ALJpyV_Xw",
        "outputId": "7a199822-34fb-4ec0-e421-9e97fe490a40"
      },
      "execution_count": null,
      "outputs": [
        {
          "metadata": {
            "tags": null
          },
          "name": "stdout",
          "output_type": "stream",
          "text": [
            "1: Soma\n",
            "2: subtração\n",
            "3: Multiplicação\n",
            "4: Divisão\n",
            "\n",
            "7.0\n",
            "1: Soma\n",
            "2: subtração\n",
            "3: Multiplicação\n",
            "4: Divisão\n",
            "\n",
            "1.0\n"
          ]
        }
      ]
    },
    {
      "cell_type": "code",
      "source": [
        "batata = 1\n",
        "tomate = 0\n",
        "while (tomate <5):\n",
        "  print (\"regue os tomates:\", tomate)\n",
        "  tomate = tomate + 2"
      ],
      "metadata": {
        "colab": {
          "base_uri": "https://localhost:8080/"
        },
        "id": "5ZwBJd4MxKbW",
        "outputId": "2737f1b2-203b-4164-aaac-20d01cbbffe8"
      },
      "execution_count": 10,
      "outputs": [
        {
          "output_type": "stream",
          "name": "stdout",
          "text": [
            "regue os tomates: 0\n",
            "regue os tomates: 2\n",
            "regue os tomates: 4\n"
          ]
        }
      ]
    },
    {
      "cell_type": "code",
      "source": [
        "for in range (6):\n",
        "  if (i % 2 != 0):\n",
        "    print (\"Regue o tomate:\", i)\n",
        "  i = i + 1"
      ],
      "metadata": {
        "colab": {
          "base_uri": "https://localhost:8080/",
          "height": 140
        },
        "id": "teHbdgFxyj5p",
        "outputId": "193f6ef3-6095-4eaa-8dd5-326bcd8faf3e"
      },
      "execution_count": 62,
      "outputs": [
        {
          "output_type": "error",
          "ename": "SyntaxError",
          "evalue": "ignored",
          "traceback": [
            "\u001b[0;36m  File \u001b[0;32m\"<ipython-input-62-9b78b0170713>\"\u001b[0;36m, line \u001b[0;32m1\u001b[0m\n\u001b[0;31m    for in range (6):\u001b[0m\n\u001b[0m        ^\u001b[0m\n\u001b[0;31mSyntaxError\u001b[0m\u001b[0;31m:\u001b[0m invalid syntax\n"
          ]
        }
      ]
    },
    {
      "cell_type": "code",
      "source": [
        "i = 0\n",
        "while (i < 6):\n",
        "  if (i % 2 !=0):\n",
        "    print(\"regue o tomate\", i)\n",
        "  i =  i + 1"
      ],
      "metadata": {
        "colab": {
          "base_uri": "https://localhost:8080/"
        },
        "id": "O0usAbd_z8V_",
        "outputId": "324e314e-7b51-4d75-8fa0-b6967b2ef144"
      },
      "execution_count": 59,
      "outputs": [
        {
          "output_type": "stream",
          "name": "stdout",
          "text": [
            "regue o tomate 1\n",
            "regue o tomate 3\n",
            "regue o tomate 5\n"
          ]
        }
      ]
    },
    {
      "cell_type": "code",
      "source": [
        "i = 0\n",
        "while (i < 6):\n",
        "  if (i % 2 != 0):\n",
        "   print(\"regue o tomate:\", i)\n",
        "  i = i + 1\n"
      ],
      "metadata": {
        "colab": {
          "base_uri": "https://localhost:8080/"
        },
        "id": "arjQW5mf1tMg",
        "outputId": "3a3f4821-0cfc-4fb4-e0d0-57f52d82cfca"
      },
      "execution_count": 57,
      "outputs": [
        {
          "output_type": "stream",
          "name": "stdout",
          "text": [
            "regue o tomate: 1\n",
            "regue o tomate: 3\n",
            "regue o tomate: 5\n"
          ]
        }
      ]
    },
    {
      "cell_type": "code",
      "source": [
        "def multiplicacao(num1, num2):\n",
        "  resultado = num1 * num2\n",
        "\n",
        "  return resultado\n",
        "\n",
        "  resultadoMulti = multiplicacao(5, 10)\n",
        "  print(resultadoMulti)"
      ],
      "metadata": {
        "id": "vBQWUbAr3Ybs"
      },
      "execution_count": 47,
      "outputs": []
    },
    {
      "cell_type": "code",
      "source": [
        "def multiplicacao(num1, num2):\n",
        "  resultado = num1 * num2\n",
        "\n",
        "  return resultado\n",
        "\n",
        "resultadoMulti = multiplicacao(4, 3)\n",
        "print(resultadoMulti)"
      ],
      "metadata": {
        "colab": {
          "base_uri": "https://localhost:8080/"
        },
        "id": "GmkS-ktO5L-0",
        "outputId": "1bc604c5-af70-4c4e-df4c-c89b2f95fdea"
      },
      "execution_count": 58,
      "outputs": [
        {
          "output_type": "stream",
          "name": "stdout",
          "text": [
            "12\n"
          ]
        }
      ]
    },
    {
      "cell_type": "code",
      "source": [
        "while True:\n",
        "   n = int (input ('Quer ver a tabuada de qual valor? '))\n",
        "   print('-' * 30)\n",
        "   if n < 0:\n",
        "     break\n",
        "   for c in range(1, 11):\n",
        "     print(f'{n} x {c} = {n*c})')\n",
        "   print('-' * 30)\n",
        "print('PROGRAMA TABUADA ENCERRADA. VOLTE SEMPRE')\n"
      ],
      "metadata": {
        "colab": {
          "base_uri": "https://localhost:8080/"
        },
        "id": "sfdKk_gZ7bao",
        "outputId": "03ec99cd-2f78-4fdf-c8c1-3ba5a8b739b0"
      },
      "execution_count": 71,
      "outputs": [
        {
          "output_type": "stream",
          "name": "stdout",
          "text": [
            "Quer ver a tabuada de qual valor? 3\n",
            "------------------------------\n",
            "3 x 1 = 3)\n",
            "3 x 2 = 6)\n",
            "3 x 3 = 9)\n",
            "3 x 4 = 12)\n",
            "3 x 5 = 15)\n",
            "3 x 6 = 18)\n",
            "3 x 7 = 21)\n",
            "3 x 8 = 24)\n",
            "3 x 9 = 27)\n",
            "3 x 10 = 30)\n",
            "------------------------------\n",
            "Quer ver a tabuada de qual valor? -2\n",
            "------------------------------\n",
            "PROGRAMA TABUADA ENCERRADA. VOLTE SEMPRE\n"
          ]
        }
      ]
    }
  ]
}