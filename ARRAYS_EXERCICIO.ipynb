{
  "nbformat": 4,
  "nbformat_minor": 0,
  "metadata": {
    "colab": {
      "provenance": [],
      "authorship_tag": "ABX9TyPBwztGx8Ong4I83QfYJVih",
      "include_colab_link": true
    },
    "kernelspec": {
      "name": "python3",
      "display_name": "Python 3"
    },
    "language_info": {
      "name": "python"
    }
  },
  "cells": [
    {
      "cell_type": "markdown",
      "metadata": {
        "id": "view-in-github",
        "colab_type": "text"
      },
      "source": [
        "<a href=\"https://colab.research.google.com/github/nadiaesde/TALENTCLOUD/blob/main/ARRAYS_EXERCICIO.ipynb\" target=\"_parent\"><img src=\"https://colab.research.google.com/assets/colab-badge.svg\" alt=\"Open In Colab\"/></a>"
      ]
    },
    {
      "cell_type": "code",
      "execution_count": null,
      "metadata": {
        "id": "Gn9Om5n-rKmB"
      },
      "outputs": [],
      "source": []
    },
    {
      "cell_type": "markdown",
      "source": [
        "**ARRAY FUNCOES**"
      ],
      "metadata": {
        "id": "TdP6iXUFrO0z"
      }
    },
    {
      "cell_type": "code",
      "source": [
        "def achar_elemento(arr):\n",
        "#precisa dois parametros  - o array e um elemento que vai procurar\n",
        "#percorrer um array e alterar uma variavel boleana caso encontrar o elemento - acessar todos os elementos para ver se esta la\n",
        " achou = False\n",
        " cumprimento = len(arr) #conta quantos elementos tem no array\n",
        "\n",
        " for i in range(cumprimento):\n",
        "      print(arr[i])\n",
        "\n",
        "ordem = ['primeiro', 'segundo', 'terceiro']\n",
        "achar_elemento(ordem)\n"
      ],
      "metadata": {
        "id": "jh1UTu3FrSbF"
      },
      "execution_count": null,
      "outputs": []
    },
    {
      "cell_type": "code",
      "source": [
        "def achar_elemento(arr):\n",
        "  achou = False\n",
        "  cumprimento = len(arr)\n",
        "\n",
        "  for i in range(cumprimento):\n",
        "    print(arr[i])\n",
        "\n",
        "ordem = ['primeito', 'segundo', 'terceito']\n",
        "achar_elemento(ordem)\n",
        "\n"
      ],
      "metadata": {
        "colab": {
          "base_uri": "https://localhost:8080/"
        },
        "id": "cGaWScOi0i4a",
        "outputId": "0dccaec0-843f-4c81-9b64-98438da14f2e"
      },
      "execution_count": null,
      "outputs": [
        {
          "output_type": "stream",
          "name": "stdout",
          "text": [
            "primeito\n",
            "segundo\n",
            "terceito\n"
          ]
        }
      ]
    },
    {
      "cell_type": "code",
      "source": [
        "def achar_elemento(elem, arr):\n",
        "  achou = False\n",
        "  cumprimento = len(arr)\n",
        "\n",
        "  for i in range(cumprimento):\n",
        "    print(arr[i])\n",
        "\n",
        "ordem = ['primeito', 'segundo', 'terceito']\n",
        "achar_elemento(ordem)\n"
      ],
      "metadata": {
        "id": "QiEkzxLG2Oez"
      },
      "execution_count": null,
      "outputs": []
    },
    {
      "cell_type": "code",
      "source": [
        "def achar_elemento(elem, arr):\n",
        "  achou = False\n",
        "  cumprimento = len(arr)\n",
        "\n",
        "  for i in range(cumprimento):\n",
        "    if(arr[i] == elem):\n",
        "      achou = True\n",
        "\n",
        "  if(achou == True):\n",
        "    print('Achamos o nome:' + elem)\n",
        "  else:\n",
        "    print('Não achei o nome:' + elem)\n",
        "\n",
        "\n",
        "nome = ['primeito', 'segundo', 'terceito']\n",
        "achar_elemento('quinto', nome)\n"
      ],
      "metadata": {
        "colab": {
          "base_uri": "https://localhost:8080/"
        },
        "id": "mt79MYBQM6Ro",
        "outputId": "03ae4663-ce3d-4d01-c95f-910b82a7a95e"
      },
      "execution_count": null,
      "outputs": [
        {
          "output_type": "stream",
          "name": "stdout",
          "text": [
            "Não achei o nome:quinto\n"
          ]
        }
      ]
    },
    {
      "cell_type": "code",
      "source": [
        "#cores = cor.array['Branco', 'Azul', 'Amarelo', 'Verde', 'Lilás', 'Roxo', 'Marrom', 'Preto', 'Rosa', 'Cinza']\n",
        "cores = cor.array['Branco', 'Amarelo', 'verde', 'Azul', 'Lilás', 'Roxo', 'Marrom', 'Preto', 'Rosa', 'Cinza']\n",
        " cores.sort():\n",
        "\n"
      ],
      "metadata": {
        "id": "ZHVXmi0KOwPY"
      },
      "execution_count": null,
      "outputs": []
    },
    {
      "cell_type": "code",
      "source": [
        "cor = ('amarelo', 'verde', 'rosa')\n",
        "print(cor)"
      ],
      "metadata": {
        "colab": {
          "base_uri": "https://localhost:8080/"
        },
        "id": "pOI6Be9ltpVS",
        "outputId": "007dadce-02ab-4f5e-8d50-4d805154885a"
      },
      "execution_count": null,
      "outputs": [
        {
          "output_type": "stream",
          "name": "stdout",
          "text": [
            "('amarelo', 'verde', 'rosa')\n"
          ]
        }
      ]
    },
    {
      "cell_type": "code",
      "source": [
        "cor = ['Branco', 'Amarelo', 'Verde', 'Azul', 'Lilás', 'Roxo', 'Marrom', 'Preto', 'Rosa', 'Cinza']\n",
        "\n",
        "cor.append('Laranja')\n",
        "cor.insert(0, 'Vermelho')\n",
        "cor.sort()\n",
        "print(cor)\n",
        "cor.pop(1)\n",
        "print(cor)\n",
        "print(f'Essa lista tem {len(cor)} elementos.')"
      ],
      "metadata": {
        "colab": {
          "base_uri": "https://localhost:8080/"
        },
        "id": "Zro9bvAIvFGv",
        "outputId": "102e75d5-321b-49e6-ad45-dc0164dd6194"
      },
      "execution_count": null,
      "outputs": [
        {
          "output_type": "stream",
          "name": "stdout",
          "text": [
            "['Amarelo', 'Azul', 'Branco', 'Cinza', 'Laranja', 'Lilás', 'Marrom', 'Preto', 'Rosa', 'Roxo', 'Verde', 'Vermelho']\n",
            "['Amarelo', 'Branco', 'Cinza', 'Laranja', 'Lilás', 'Marrom', 'Preto', 'Rosa', 'Roxo', 'Verde', 'Vermelho']\n",
            "Essa lista tem 11 elementos.\n"
          ]
        }
      ]
    },
    {
      "cell_type": "code",
      "source": [
        "cor = ['Branco', 'Amarelo', 'Verde', 'Azul', 'Lilás', 'Roxo', 'Marrom', 'Preto', 'Rosa', 'Cinza']\n",
        "\n",
        "cor.append('Laranja')\n",
        "cor.insert(0, 'Vermelho')\n",
        "cor.sort()\n",
        "cor.insert(2, 'Turquesa')\n",
        "if 'Dourado' in cor:\n",
        "  cor.remove('Dourado')\n",
        "else:\n",
        "  print('Não há a cor Dourado na sua lista')\n",
        "\n",
        "print(cor)\n",
        "cor.pop(1)\n",
        "print(cor)\n",
        "print(f'Essa lista tem {len(cor)} elementos.')"
      ],
      "metadata": {
        "colab": {
          "base_uri": "https://localhost:8080/"
        },
        "id": "7ILxSOfyRI0I",
        "outputId": "b2084c35-c881-4f07-c34e-ef436c7c8550"
      },
      "execution_count": null,
      "outputs": [
        {
          "output_type": "stream",
          "name": "stdout",
          "text": [
            "Não há a cor Dourado na sua lista\n",
            "['Amarelo', 'Azul', 'Turquesa', 'Branco', 'Cinza', 'Laranja', 'Lilás', 'Marrom', 'Preto', 'Rosa', 'Roxo', 'Verde', 'Vermelho']\n",
            "['Amarelo', 'Turquesa', 'Branco', 'Cinza', 'Laranja', 'Lilás', 'Marrom', 'Preto', 'Rosa', 'Roxo', 'Verde', 'Vermelho']\n",
            "Essa lista tem 12 elementos.\n"
          ]
        }
      ]
    },
    {
      "cell_type": "code",
      "source": [
        "cores = []\n",
        "cores.append('azul')\n",
        "cores.append('amarelo')\n",
        "cores.append('rosa')\n",
        "cores.append('Vermelho')\n",
        "print(cores)\n",
        "for c in cores:\n",
        "  print(f'{c}....')\n",
        "for c in cores:\n",
        "  print(f'{c}....', end='')\n",
        "\n",
        "\n",
        "for c, v in enumerate(cores):\n",
        "  print(f'Na posicao {c} encontrei a cor {v}!')\n"
      ],
      "metadata": {
        "colab": {
          "base_uri": "https://localhost:8080/"
        },
        "id": "CsA-rwx5Sthc",
        "outputId": "139aa443-d6d5-4252-a7e5-124084e3299c"
      },
      "execution_count": null,
      "outputs": [
        {
          "output_type": "stream",
          "name": "stdout",
          "text": [
            "['azul', 'amarelo', 'rosa', 'Vermelho']\n",
            "azul....\n",
            "amarelo....\n",
            "rosa....\n",
            "Vermelho....\n",
            "azul....amarelo....rosa....Vermelho....Na posicao 0 encontrei a cor azul!\n",
            "Na posicao 1 encontrei a cor amarelo!\n",
            "Na posicao 2 encontrei a cor rosa!\n",
            "Na posicao 3 encontrei a cor Vermelho!\n"
          ]
        }
      ]
    },
    {
      "cell_type": "code",
      "source": [
        "valores = list()\n",
        "for cont in range(0, 5):\n",
        "  valores.append(int(input('Digite um valor:')))\n",
        "for c, v in enumerate(valores):\n",
        "  print(f'Na posicao {c} encontrei o valo {v}!')\n",
        "print('Cheguei ao final da lista.')\n",
        "\n"
      ],
      "metadata": {
        "colab": {
          "base_uri": "https://localhost:8080/"
        },
        "id": "ARqnBgAxWC7n",
        "outputId": "58d9efc2-3dd8-4e4a-f323-03ecb99ccaed"
      },
      "execution_count": null,
      "outputs": [
        {
          "output_type": "stream",
          "name": "stdout",
          "text": [
            "Digite um valor:2\n",
            "Digite um valor:9\n",
            "Digite um valor:1\n",
            "Digite um valor:0\n",
            "Digite um valor:8\n",
            "Na posicao 0 encontrei o valo 2!\n",
            "Na posicao 1 encontrei o valo 9!\n",
            "Na posicao 2 encontrei o valo 1!\n",
            "Na posicao 3 encontrei o valo 0!\n",
            "Na posicao 4 encontrei o valo 8!\n",
            "Cheguei ao final da lista.\n"
          ]
        }
      ]
    },
    {
      "cell_type": "code",
      "source": [
        "a = [2, 3, 4, 5, 9]\n",
        "b = a\n",
        "print(a)\n",
        "print(b)"
      ],
      "metadata": {
        "colab": {
          "base_uri": "https://localhost:8080/"
        },
        "id": "y6BFDQcvXBwd",
        "outputId": "c39eb061-5716-42ee-ca2a-62cc72e14e78"
      },
      "execution_count": null,
      "outputs": [
        {
          "output_type": "stream",
          "name": "stdout",
          "text": [
            "[2, 3, 4, 5, 9]\n",
            "[2, 3, 4, 5, 9]\n"
          ]
        }
      ]
    }
  ]
}