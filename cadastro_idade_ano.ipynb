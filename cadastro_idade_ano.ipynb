{
  "nbformat": 4,
  "nbformat_minor": 0,
  "metadata": {
    "colab": {
      "provenance": [],
      "authorship_tag": "ABX9TyNr/z/SlWbq1WJUHYHcD9iU",
      "include_colab_link": true
    },
    "kernelspec": {
      "name": "python3",
      "display_name": "Python 3"
    },
    "language_info": {
      "name": "python"
    }
  },
  "cells": [
    {
      "cell_type": "markdown",
      "metadata": {
        "id": "view-in-github",
        "colab_type": "text"
      },
      "source": [
        "<a href=\"https://colab.research.google.com/github/nadiaesde/TALENTCLOUD/blob/main/cadastro_idade_ano.ipynb\" target=\"_parent\"><img src=\"https://colab.research.google.com/assets/colab-badge.svg\" alt=\"Open In Colab\"/></a>"
      ]
    },
    {
      "cell_type": "code",
      "execution_count": 70,
      "metadata": {
        "colab": {
          "base_uri": "https://localhost:8080/"
        },
        "id": "GDswI5qhdT_T",
        "outputId": "69c39e6f-c091-4ebc-b5ba-5592d79a3a10"
      },
      "outputs": [
        {
          "output_type": "stream",
          "name": "stdout",
          "text": [
            "Digite seu nome completo: nadia maria\n",
            "Digite o ano de nascimento: 1963\n",
            "Olá nadia maria, sua idade é 60 anos.\n"
          ]
        }
      ],
      "source": [
        "# CADASTRO DATA NASCIMENTO\n",
        "\n",
        "def calcular_idade(nome, ano):\n",
        "    ano_atual = datetime.datetime.now().year\n",
        "    idade = ano_atual - ano\n",
        "    return f\"Olá {nome}, sua idade é {idade} anos.\"\n",
        "\n",
        "def obter_ano():\n",
        "    while True:\n",
        "        try:\n",
        "         ano = int(input(\"Digite o ano de nascimento: \"))\n",
        "         if 1922 <= ano <= 2021:\n",
        "                return ano\n",
        "         else:\n",
        "                print(\"Por favor, digite um ano entre 1922 e 2021.\")\n",
        "        except ValueError:\n",
        "            print(\"Por favor, digite um valor numérico válido.\")\n",
        "\n",
        "def main():\n",
        "    nome = input(\"Digite seu nome completo: \")\n",
        "    ano = obter_ano()\n",
        "    mensagem = calcular_idade(nome, ano)\n",
        "    print(mensagem)\n",
        "\n",
        "if __name__ == \"__main__\":\n",
        "    main()\n"
      ]
    },
    {
      "cell_type": "code",
      "source": [],
      "metadata": {
        "id": "piI7RLnmnaWL"
      },
      "execution_count": null,
      "outputs": []
    },
    {
      "cell_type": "code",
      "source": [
        "import datetime\n",
        "\n",
        "def get_valid_year():\n",
        "    while True:\n",
        "        try:\n",
        "            year = int(input(\"Digite o ano de nascimento (entre 1922 e 2021): \"))\n",
        "            if 1922 <= year <= 2021:\n",
        "                return year\n",
        "            else:\n",
        "                print(\"Ano fora do intervalo permitido. Tente novamente.\")\n",
        "        except ValueError:\n",
        "            print(\"Entrada inválida. Digite um número válido.\")\n",
        "\n",
        "def main():\n",
        "    nome = input(\"Digite seu nome completo: \")\n",
        "    year = get_valid_year()\n",
        "\n",
        "    current_year = datetime.datetime.now().year\n",
        "    age = current_year - year\n",
        "\n",
        "    print(f\"Nome: {nome}\")\n",
        "    print(f\"Idade: Ola! {nome},  hoje voce tem {age} anos.\")\n",
        "\n",
        "if __name__ == \"__main__\":\n",
        "    main()"
      ],
      "metadata": {
        "colab": {
          "base_uri": "https://localhost:8080/"
        },
        "id": "YnS3c_69neQ5",
        "outputId": "3bb36744-9b87-4b05-f550-1e3b7efc3286"
      },
      "execution_count": 73,
      "outputs": [
        {
          "output_type": "stream",
          "name": "stdout",
          "text": [
            "Digite seu nome completo: maria jose\n",
            "Digite o ano de nascimento (entre 1922 e 2021): 1963\n",
            "Nome: maria jose\n",
            "Idade: Ola! maria jose hoje voce tem 60 anos\n"
          ]
        }
      ]
    }
  ]
}